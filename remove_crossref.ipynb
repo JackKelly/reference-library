{
 "cells": [
  {
   "cell_type": "code",
   "execution_count": 31,
   "metadata": {
    "collapsed": true
   },
   "outputs": [],
   "source": [
    "import bibtexparser as bibtexparser"
   ]
  },
  {
   "cell_type": "code",
   "execution_count": 32,
   "metadata": {
    "collapsed": true
   },
   "outputs": [],
   "source": [
    "BIB_FILENAME = 'library.bib'"
   ]
  },
  {
   "cell_type": "code",
   "execution_count": 33,
   "metadata": {
    "collapsed": false
   },
   "outputs": [],
   "source": [
    "parser = bibtexparser.bparser.BibTexParser()\n",
    "parser.ignore_nonstandard_types = False\n",
    "parser.homogenise_fields = False"
   ]
  },
  {
   "cell_type": "code",
   "execution_count": 47,
   "metadata": {
    "collapsed": false
   },
   "outputs": [],
   "source": [
    "with open(BIB_FILENAME) as bibtex_file:\n",
    "    bib_database = bibtexparser.load(bibtex_file, parser=parser)"
   ]
  },
  {
   "cell_type": "code",
   "execution_count": 48,
   "metadata": {
    "collapsed": false
   },
   "outputs": [
    {
     "data": {
      "text/plain": [
       "135"
      ]
     },
     "execution_count": 48,
     "metadata": {},
     "output_type": "execute_result"
    }
   ],
   "source": [
    "len(bib_database.entries)"
   ]
  },
  {
   "cell_type": "code",
   "execution_count": 40,
   "metadata": {
    "collapsed": false
   },
   "outputs": [
    {
     "name": "stdout",
     "output_type": "stream",
     "text": [
      "Removing crossref goroshin2015unsupervised-feature-learning-from-temporal-data for goroshin2014unsupervised-feature-learning-from-temporal-data\n",
      "Removing crossref goroshin2015unsupervised-feature-learning-from-temporal-data for goroshin2015unsupervised-feature-learning-from-temporal-data\n",
      "Removing crossref sonderby2015RNN-SPN for jaderberg2015STN\n",
      "Removing crossref maas2013RNN-feature-enhancement for maas2012RNN-noise-reduction-in-ASR\n",
      "Removing crossref maas2012RNN-noise-reduction-in-ASR for maas2013RNN-feature-enhancement\n",
      "Removing crossref jaderberg2015STN for sonderby2015RNN-SPN\n"
     ]
    }
   ],
   "source": [
    "for entry in bib_database.entries:\n",
    "    if 'crossref' in entry:\n",
    "        print(\"Removing crossref\", entry['crossref'], 'for', entry['ID'])\n",
    "        crossref = entry.pop('crossref')\n",
    "        entry.setdefault('comment', '')\n",
    "        entry['comment'] += 'Related: ' + crossref"
   ]
  },
  {
   "cell_type": "code",
   "execution_count": 46,
   "metadata": {
    "collapsed": false
   },
   "outputs": [],
   "source": [
    "# Write bib file\n",
    "writer = bibtexparser.bwriter.BibTexWriter()\n",
    "bibtex_str = writer.write(bib_database)\n",
    "bibtex_str = bibtex_str.encode('utf-8')\n",
    "with open(BIB_FILENAME, mode='w') as bibtex_file:\n",
    "    bibtex_file.write(bibtex_str)"
   ]
  },
  {
   "cell_type": "code",
   "execution_count": null,
   "metadata": {
    "collapsed": false
   },
   "outputs": [],
   "source": []
  },
  {
   "cell_type": "code",
   "execution_count": null,
   "metadata": {
    "collapsed": true
   },
   "outputs": [],
   "source": []
  }
 ],
 "metadata": {
  "kernelspec": {
   "display_name": "Python 2",
   "language": "python",
   "name": "python2"
  },
  "language_info": {
   "codemirror_mode": {
    "name": "ipython",
    "version": 2
   },
   "file_extension": ".py",
   "mimetype": "text/x-python",
   "name": "python",
   "nbconvert_exporter": "python",
   "pygments_lexer": "ipython2",
   "version": "2.7.10"
  }
 },
 "nbformat": 4,
 "nbformat_minor": 0
}
