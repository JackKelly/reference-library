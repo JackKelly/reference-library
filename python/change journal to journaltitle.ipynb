{
 "cells": [
  {
   "cell_type": "code",
   "execution_count": 6,
   "metadata": {
    "collapsed": false
   },
   "outputs": [
    {
     "data": {
      "text/plain": [
       "236"
      ]
     },
     "execution_count": 6,
     "metadata": {},
     "output_type": "execute_result"
    }
   ],
   "source": [
    "from bibutils import load_bib, write_bib\n",
    "bib_database = load_bib()\n",
    "len(bib_database.entries)"
   ]
  },
  {
   "cell_type": "code",
   "execution_count": 6,
   "metadata": {
    "collapsed": false
   },
   "outputs": [
    {
     "name": "stdout",
     "output_type": "stream",
     "text": [
      "Removing 'journal=Nature neuroscience' from ID:abbott2000synaptic-plasticity\n",
      "Removing 'journal=Energy Policy' from ID:armel2013holy-grail\n",
      "Removing 'journal=Control Engineering Practice' from ID:auret2010changepoint-detection\n",
      "Removing 'journal=Energy and Buildings' from ID:babaei2015dataset-directory\n",
      "Removing 'journal=Large-scale kernel machines' from ID:bengio2007scaling\n",
      "Removing 'journal=Computers \\& Education' from ID:benitti2012robotics-in-schools\n",
      "Removing 'journal=Computers \\& Education' from ID:bers2014computational-thinking\n",
      "Removing 'journal=Energy Policy' from ID:buchanan2015energy-reduction\n",
      "Removing 'journal=Energy Research \\& Social Science' from ID:bull2015moving-beyond-feedback\n",
      "Removing 'journal=ACM Comput. Surv.' from ID:chandola2009anomaly-detection-survey\n",
      "Removing 'journal=Nature' from ID:cichon2015dendritic-spikes\n",
      "Removing 'journal=Poster Presentation at the European Wind Energy Conference' from ID:felder2010wind\n",
      "Removing 'journal=Biological cybernetics' from ID:fukushima1980neocognitron\n",
      "Removing 'journal=Nature Neuroscience' from ID:Gomez-Marin2014big-behavioural-data\n",
      "Removing 'journal=Pattern Analysis and Machine Intelligence, IEEE Transactions on' from ID:graves2008CTC-unconstrained-handwriting-recognition\n",
      "Removing 'journal=Proceedings of the IEEE' from ID:hart1992\n",
      "Removing 'journal=IEEE Technology and Society Magazine' from ID:hart1989energy-monitoring\n",
      "Removing 'journal=Neural computation' from ID:hinton2006fast\n",
      "Removing 'journal=Science' from ID:hinton2006reducing\n",
      "Removing 'journal=Neural Computation' from ID:hochreiter1997LSTM\n",
      "Removing 'journal=Scientific Data' from ID:UK-DALE\n",
      "Removing 'journal=JMLR: W\\&CP' from ID:larochelle2011NADE\n",
      "Removing 'journal=Proceedings of the IEEE' from ID:lecun1998gradient\n",
      "Removing 'journal=Power Delivery, IEEE Transactions on' from ID:leeb1995transient\n",
      "Removing 'journal=Nature' from ID:mnih2015deep-reinforcement-learning\n",
      "Removing 'journal=Energy and Buildings' from ID:oleary2015thermal-efficiency\n",
      "Removing 'journal=Social Studies of Science' from ID:olazaran1996perceptrons-controversy\n",
      "Removing 'journal=Journal of Machine Learning Research' from ID:pybrain2010jmlr\n",
      "Removing 'journal=Neural Networks' from ID:schmidhuber2014deep-learning-overview\n",
      "Removing 'journal=TRENDS in Neurosciences' from ID:tsodyks2002STDP\n",
      "Removing 'journal=JMLR: W\\&CP' from ID:uria2014density-estimator\n",
      "Removing 'journal=Proceedings of the IEEE International Conference on Acoustics, Speech, and Signal Processing, ICASSP 2015' from ID:uria2015trajectory-RNADE\n",
      "Removing 'journal=Proceedings of the {IEEE}' from ID:werbos1990BPTT\n",
      "Removing 'journal=Neural Networks' from ID:werbos1988generalization\n",
      "Removing 'journal=Back-propagation: Theory, architectures and applications' from ID:williams1995gradient\n"
     ]
    }
   ],
   "source": [
    "for entry in bib_database.entries:\n",
    "    journal = entry.pop('journal', None)\n",
    "    if journal:\n",
    "        print(\"Removing 'journal={}' from ID:{}\".format(journal, entry['ID']))\n",
    "        entry['journaltitle'] = journal"
   ]
  },
  {
   "cell_type": "code",
   "execution_count": 7,
   "metadata": {
    "collapsed": false
   },
   "outputs": [],
   "source": [
    "write_bib(bib_database)"
   ]
  }
 ],
 "metadata": {
  "kernelspec": {
   "display_name": "Python 2",
   "language": "python",
   "name": "python2"
  },
  "language_info": {
   "codemirror_mode": {
    "name": "ipython",
    "version": 2
   },
   "file_extension": ".py",
   "mimetype": "text/x-python",
   "name": "python",
   "nbconvert_exporter": "python",
   "pygments_lexer": "ipython2",
   "version": "2.7.10"
  }
 },
 "nbformat": 4,
 "nbformat_minor": 0
}
