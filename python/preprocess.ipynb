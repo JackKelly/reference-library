{
 "cells": [
  {
   "cell_type": "code",
   "execution_count": 113,
   "metadata": {
    "collapsed": false
   },
   "outputs": [],
   "source": [
    "from bibutils import load_bib, write_bib\n",
    "import bibtexparser\n",
    "from bibtexparser.customization import author, page_double_hyphen\n",
    "from copy import deepcopy\n",
    "from titlecase import titlecase\n",
    "import calendar\n",
    "import re\n",
    "from StringIO import StringIO\n",
    "import pyperclip\n",
    "from datetime import datetime"
   ]
  },
  {
   "cell_type": "code",
   "execution_count": 114,
   "metadata": {
    "collapsed": false
   },
   "outputs": [],
   "source": [
    "def change_journal_to_journaltitle(entry):\n",
    "    journal = entry.pop('journal', None)\n",
    "    if journal:\n",
    "        print(u\"Changing 'journal={}' to 'journaltitle' from ID:{}\".format(journal, entry['ID']))\n",
    "        entry['journaltitle'] = journal\n",
    "\n",
    "def remove_curly_brackets(string):\n",
    "    return string.replace('{', '').replace('}', '')\n",
    "\n",
    "def change_month(entry):\n",
    "    try:\n",
    "        month = entry['month']\n",
    "    except KeyError:\n",
    "        print(\"no month\")\n",
    "        return\n",
    "    else:\n",
    "        month = month.lower()\n",
    "        month = month[:3]\n",
    "    print(\"Month\", month)\n",
    "    month_names = [month_name.lower() for month_name in calendar.month_abbr]\n",
    "    if month in month_names:\n",
    "        month_i = str(month_names.index(month))\n",
    "        print(u\"Changing month from\", month, u\"to\", month_i)\n",
    "        entry['month'] = month_i\n",
    "    \n",
    "def lower_case_id(entry):\n",
    "    bib_id = entry['ID']\n",
    "    if len(bib_id) >= 2 and bib_id[1].islower():\n",
    "        entry['ID'] = bib_id[0].lower() + bib_id[1:]\n",
    "        \n",
    "def fix_IEEE_journals(s):\n",
    "    split = s.split(',')\n",
    "    if len(split) > 1 and 'IEEE' in split[-1]:\n",
    "        print(\"replacing '{}' \".format(s), end='')\n",
    "        s = split[1].strip() + ' ' + split[0].strip()\n",
    "        print(\"with '{}'\".format(s))\n",
    "    return s\n",
    "\n",
    "def numbering(s):\n",
    "    numbering = {\n",
    "        'first': '1st',\n",
    "        'second': '2nd',\n",
    "        'third': '3rd',\n",
    "        'fourth': '4th',\n",
    "        'fifth': '5th',\n",
    "        'sixth': '6th',\n",
    "        'seventh': '7th',\n",
    "        'eighth': '8th',\n",
    "        'ninth': '9th',\n",
    "        'tenth': '10th',\n",
    "        'eleventh': '11th',\n",
    "        'twelfth': '12th',\n",
    "        'thirteenth': '13th',\n",
    "        'fourteenth': '14th',\n",
    "        'fifteenth': '15th',\n",
    "        'sixteenth': '16th',\n",
    "        'seventeenth': '17th',\n",
    "        'eighteenth': '18th',\n",
    "        'nineteenth': '19th',\n",
    "        'twentieth': '20th'}\n",
    "    words = s.split(' ')\n",
    "    for word in words:\n",
    "        if word.lower() in numbering:\n",
    "            s = s.replace(word, numbering[word.lower()])\n",
    "    return s"
   ]
  },
  {
   "cell_type": "code",
   "execution_count": 115,
   "metadata": {
    "collapsed": false
   },
   "outputs": [],
   "source": [
    "def process(bib_database):\n",
    "    for entry in bib_database.entries:\n",
    "        # Change ID\n",
    "        surname_of_first_author = author(deepcopy(entry))['author'][0].split(',')[0].strip().lower()\n",
    "        entry['ID'] = '{:s}{}'.format(surname_of_first_author, entry['year'])\n",
    "        \n",
    "        # journaltitle and booktitle\n",
    "        change_journal_to_journaltitle(entry)\n",
    "        for key in ['journaltitle', 'booktitle']:\n",
    "            if key in entry:\n",
    "                entry[key] = fix_IEEE_journals(entry[key])\n",
    "                if ' &' in entry[key]:\n",
    "                    entry[key] = entry[key].replace(' &', ' \\&')\n",
    "\n",
    "        if 'booktitle' in entry:\n",
    "            booktitle = entry['booktitle']\n",
    "\n",
    "            # Extract 'series' from 'booktitle'\n",
    "            if '(' in booktitle and ')' in booktitle:\n",
    "                start = booktitle.index('(')\n",
    "                end = booktitle.index(')')\n",
    "                if 'series' not in entry:\n",
    "                    entry['series'] = booktitle[start+1:end]\n",
    "                    print(\"setting 'series'\")\n",
    "                print(\"removing series from booktitle\")\n",
    "                booktitle = booktitle[:start].strip() + booktitle[end+1:].strip()\n",
    "\n",
    "            # Extract 'Proceedings of the ' from 'booktitle'\n",
    "            booktitle = booktitle.replace('Proceedings of the ', '')\n",
    "            \n",
    "            # Remove date from 'booktitle':\n",
    "            if re.match(r\"\"\"\\d{4}\"\"\", booktitle):\n",
    "                print(\"removing date from booktitle\")\n",
    "                booktitle = booktitle[5:]    \n",
    "        \n",
    "            # Convert 'first' to '1st' etc:\n",
    "            booktitle = numbering(booktitle)\n",
    "        \n",
    "            entry['booktitle'] = booktitle\n",
    "        \n",
    "        if 'series' in entry:\n",
    "            if \"'\" in entry['series']:\n",
    "                print(\"removing ' from series\")\n",
    "                entry['series'] = entry['series'].split(\"'\")[0].strip()\n",
    "        \n",
    "        for key_to_delete in ['keywords', 'file', 'mendeley-tags']:\n",
    "            entry.pop(key_to_delete, None)\n",
    "        change_month(entry)\n",
    "        lower_case_id(entry)\n",
    "\n",
    "        # Set 'publisher'\n",
    "        for publisher in ['ACM', 'IEEE']:\n",
    "            for key in ['journaltitle', 'booktitle']:\n",
    "                if publisher in entry.get(key, ''):\n",
    "                    if key == 'booktitle':\n",
    "                        print(\"removing\", publisher, \"from\", key)\n",
    "                        entry[key] = entry[key].replace(publisher + ' ', '')\n",
    "                \n",
    "                    if 'publisher' not in entry:\n",
    "                        entry['publisher'] = publisher\n",
    "                        print(\"setting publisher to\", publisher, \"for ID\", entry['ID'])\n",
    "\n",
    "        # Remove 'year' and 'month' and use 'date' instead\n",
    "        if 'date' not in entry:\n",
    "            if 'year' in entry:\n",
    "                year = entry.pop('year')\n",
    "                entry['date'] = year\n",
    "            if 'month' in entry:\n",
    "                month = entry.pop('month')\n",
    "                entry['date'] += '-{:02d}'.format(int(month))\n",
    "\n",
    "        if 'date' in entry:\n",
    "            date = entry['date']\n",
    "            def bad_date():\n",
    "                print(\"********##### BAD DATE\", entry['date'], entry['ID'])\n",
    "                \n",
    "            if len(date) > 7 and not re.match(r\"\"\"\\d{4}-\\d{2}-\\d{2}\"\"\", date):\n",
    "                bad_date()\n",
    "            elif len(date) > 4 and not re.match(r\"\"\"\\d{4}-\\d{2}\"\"\", date):\n",
    "                bad_date()\n",
    "            elif not re.match(r\"\"\"\\d{4}\"\"\", date):\n",
    "                bad_date()\n",
    "                \n",
    "        page_double_hyphen(entry)\n",
    "        \n",
    "        if 'doi' in entry:\n",
    "            entry['doi'] = entry['doi'].replace('http://dx.doi.org/', '')\n",
    "        \n",
    "            for key in ['url', 'eprint', 'eprinttype']:\n",
    "                if key in entry:\n",
    "                    entry.pop(key)\n",
    "                    print(\"removing\", key)\n",
    "                                \n",
    "        # Format title\n",
    "        entry['title'] = remove_curly_brackets(entry['title'])\n",
    "        if entry.get('publisher', '') == 'IEEE':\n",
    "            entry['title'] = titlecase(entry['title'])\n",
    "            \n",
    "        # Format abstract\n",
    "        if 'abstract' in entry:\n",
    "            entry['abstract'] = entry['abstract'].replace(\"\"\"\\{\"\"\", \"\")\n",
    "            entry['abstract'] = entry['abstract'].replace(\"\"\"\\}\"\"\", \"\")\n",
    "            \n",
    "        entry['owner'] = 'jack'\n",
    "        entry['timestamp'] = datetime.now().strftime('%Y.%m.%d')\n",
    "                        \n",
    "    return bib_database"
   ]
  },
  {
   "cell_type": "code",
   "execution_count": 116,
   "metadata": {
    "collapsed": false
   },
   "outputs": [],
   "source": [
    "bibtex = pyperclip.paste()\n",
    "\n",
    "# Fix broken IEEE end of string:\n",
    "if bibtex[-3:] == '},}':\n",
    "    bibtex = bibtex[:-2] + '\\n}'\n",
    "\n",
    "bibtex = bibtex.replace(\"\"\"abstract = \"Abstract \"\"\", \"\"\"abstract = {\"\"\")\n",
    "bibtex = bibtex.replace(\"\"\"abstract = \\\"\"\"\", \"\"\"abstract = {\"\"\")\n",
    "bibtex = bibtex.replace(\"\"\" \"\n",
    "\"\"\", \"\"\"}\n",
    "\"\"\")\n",
    "stringio = StringIO(bibtex)\n",
    "bib_database = load_bib(stringio=stringio)\n",
    "# print(stringio.read())"
   ]
  },
  {
   "cell_type": "code",
   "execution_count": 117,
   "metadata": {
    "collapsed": false,
    "scrolled": false
   },
   "outputs": [
    {
     "name": "stdout",
     "output_type": "stream",
     "text": [
      "----------------LOG----------------\n",
      "\n",
      "removing ' from series\n",
      "no month\n",
      "removing url\n",
      "{u'numpages': u'10', u'publisher': u'Springer-Verlag', u'doi': u'10.1007/978-3-642-39209-2_61', u'isbn': u'978-3-642-39208-5', u'acmid': u'2526631', u'title': u'Social Experiment on Advisory Recommender System for Energy-saving', u'series': u'HCI International', u'booktitle': u'15th International Conference on Human Interface and the Management of Information: Information and Interaction Design - Volume Part I', u'author': u\"Shigeyoshi, Hiroki and Tamano, Ken'iti and Saga, Ryosuke and Tsuji, Hiroshi and Inoue, Shuki and Ueno, Tsuyoshi\", 'ENTRYTYPE': u'inproceedings', 'owner': 'jack', u'location': u'Las Vegas, NV', 'timestamp': '2016.02.22', 'date': u'2013', 'ID': 'shigeyoshi2013', u'pages': u'545--554', u'address': u'Berlin, Heidelberg'}\n",
      "\n",
      "\n",
      "\n",
      "----------------ORIGINAL-----------\n",
      "\n",
      "@inproceedings{Shigeyoshi:2013:SEA:2526566.2526631,\n",
      " author = {Shigeyoshi, Hiroki and Tamano, Ken'iti and Saga, Ryosuke and Tsuji, Hiroshi and Inoue, Shuki and Ueno, Tsuyoshi},\n",
      " title = {Social Experiment on Advisory Recommender System for Energy-saving},\n",
      " booktitle = {Proceedings of the 15th International Conference on Human Interface and the Management of Information: Information and Interaction Design - Volume Part I},\n",
      " series = {HCI International'13},\n",
      " year = {2013},\n",
      " isbn = {978-3-642-39208-5},\n",
      " location = {Las Vegas, NV},\n",
      " pages = {545--554},\n",
      " numpages = {10},\n",
      " url = {http://dx.doi.org/10.1007/978-3-642-39209-2_61},\n",
      " doi = {10.1007/978-3-642-39209-2_61},\n",
      " acmid = {2526631},\n",
      " publisher = {Springer-Verlag},\n",
      " address = {Berlin, Heidelberg},\n",
      " keywords = {home-energy-saving, knowledge management, man-machine interaction, recommender system},\n",
      "} \n",
      "\n",
      "\n",
      "\n",
      "\n",
      "----------------PROCESSED----------\n",
      "\n",
      "@inproceedings{shigeyoshi2013,\n",
      " acmid = {2526631},\n",
      " address = {Berlin, Heidelberg},\n",
      " author = {Shigeyoshi, Hiroki and Tamano, Ken'iti and Saga, Ryosuke and Tsuji, Hiroshi and Inoue, Shuki and Ueno, Tsuyoshi},\n",
      " booktitle = {15th International Conference on Human Interface and the Management of Information: Information and Interaction Design - Volume Part I},\n",
      " date = {2013},\n",
      " doi = {10.1007/978-3-642-39209-2_61},\n",
      " isbn = {978-3-642-39208-5},\n",
      " location = {Las Vegas, NV},\n",
      " numpages = {10},\n",
      " owner = {jack},\n",
      " pages = {545--554},\n",
      " publisher = {Springer-Verlag},\n",
      " series = {HCI International},\n",
      " timestamp = {2016.02.22},\n",
      " title = {Social Experiment on Advisory Recommender System for Energy-saving}\n",
      "}\n",
      "\n",
      "\n"
     ]
    }
   ],
   "source": [
    "print(\"----------------LOG----------------\\n\")\n",
    "bib_database = process(bib_database)\n",
    "print(bib_database.entries[0])\n",
    "print(\"\\n\\n\")\n",
    "\n",
    "print(\"----------------ORIGINAL-----------\\n\")\n",
    "print(bibtex)\n",
    "\n",
    "print(\"\\n\\n\")\n",
    "print(\"----------------PROCESSED----------\\n\")\n",
    "bibstr = bibtexparser.dumps(bib_database)\n",
    "print(bibstr)\n",
    "\n",
    "pyperclip.copy(bibstr) #[:-4] + ',')"
   ]
  },
  {
   "cell_type": "code",
   "execution_count": 118,
   "metadata": {
    "collapsed": false
   },
   "outputs": [
    {
     "data": {
      "text/plain": [
       "'Low Cost Framework for Non-Intrusive Home Energy Monitoring and Research'"
      ]
     },
     "execution_count": 118,
     "metadata": {},
     "output_type": "execute_result"
    }
   ],
   "source": [
    "titlecase(\"LOW COST FRAMEWORK FOR NON-INTRUSIVE HOME ENERGY MONITORING AND RESEARCH\")"
   ]
  },
  {
   "cell_type": "code",
   "execution_count": 119,
   "metadata": {
    "collapsed": false
   },
   "outputs": [
    {
     "data": {
      "text/plain": [
       "'low cost framework for non-intrusive home energy monitoring and research'"
      ]
     },
     "execution_count": 119,
     "metadata": {},
     "output_type": "execute_result"
    }
   ],
   "source": [
    "\"LOW COST FRAMEWORK FOR NON-INTRUSIVE HOME ENERGY MONITORING AND RESEARCH\".lower()"
   ]
  },
  {
   "cell_type": "code",
   "execution_count": null,
   "metadata": {
    "collapsed": true
   },
   "outputs": [],
   "source": []
  }
 ],
 "metadata": {
  "kernelspec": {
   "display_name": "Python 2",
   "language": "python",
   "name": "python2"
  },
  "language_info": {
   "codemirror_mode": {
    "name": "ipython",
    "version": 2
   },
   "file_extension": ".py",
   "mimetype": "text/x-python",
   "name": "python",
   "nbconvert_exporter": "python",
   "pygments_lexer": "ipython2",
   "version": "2.7.10"
  }
 },
 "nbformat": 4,
 "nbformat_minor": 0
}
