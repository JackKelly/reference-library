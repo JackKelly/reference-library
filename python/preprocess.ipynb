{
 "cells": [
  {
   "cell_type": "code",
   "execution_count": 198,
   "metadata": {
    "collapsed": false
   },
   "outputs": [],
   "source": [
    "from bibutils import load_bib, write_bib\n",
    "import bibtexparser\n",
    "from bibtexparser.customization import author, page_double_hyphen\n",
    "from copy import deepcopy\n",
    "from titlecase import titlecase\n",
    "import calendar\n",
    "import re\n",
    "from StringIO import StringIO\n",
    "import pyperclip\n",
    "from datetime import datetime"
   ]
  },
  {
   "cell_type": "code",
   "execution_count": 199,
   "metadata": {
    "collapsed": false
   },
   "outputs": [],
   "source": [
    "def change_journal_to_journaltitle(entry):\n",
    "    journal = entry.pop('journal', None)\n",
    "    if journal:\n",
    "        print(u\"Changing 'journal={}' to 'journaltitle' from ID:{}\".format(journal, entry['ID']))\n",
    "        entry['journaltitle'] = journal\n",
    "\n",
    "def remove_curly_brackets(string):\n",
    "    return string.replace('{', '').replace('}', '')\n",
    "\n",
    "def change_month(entry):\n",
    "    try:\n",
    "        month = entry['month']\n",
    "    except KeyError:\n",
    "        print(\"no month\")\n",
    "        return\n",
    "    else:\n",
    "        month = month.lower()\n",
    "        month = month[:3]\n",
    "    print(\"Month\", month)\n",
    "    month_names = [month_name.lower() for month_name in calendar.month_abbr]\n",
    "    if month in month_names:\n",
    "        month_i = str(month_names.index(month))\n",
    "        print(u\"Changing month from\", month, u\"to\", month_i)\n",
    "        entry['month'] = month_i\n",
    "    \n",
    "def lower_case_id(entry):\n",
    "    bib_id = entry['ID']\n",
    "    if len(bib_id) >= 2 and bib_id[1].islower():\n",
    "        entry['ID'] = bib_id[0].lower() + bib_id[1:]\n",
    "        \n",
    "def fix_IEEE_journals(s):\n",
    "    split = s.split(',')\n",
    "    if len(split) > 1 and 'IEEE' in split[-1]:\n",
    "        print(\"replacing '{}' \".format(s), end='')\n",
    "        s = split[1].strip() + ' ' + split[0].strip()\n",
    "        print(\"with '{}'\".format(s))\n",
    "    return s\n",
    "\n",
    "def numbering(s):\n",
    "    numbering = {\n",
    "        'first': '1st',\n",
    "        'second': '2nd',\n",
    "        'third': '3rd',\n",
    "        'fourth': '4th',\n",
    "        'fifth': '5th',\n",
    "        'sixth': '6th',\n",
    "        'seventh': '7th',\n",
    "        'eighth': '8th',\n",
    "        'ninth': '9th',\n",
    "        'tenth': '10th',\n",
    "        'eleventh': '11th',\n",
    "        'twelfth': '12th',\n",
    "        'thirteenth': '13th',\n",
    "        'fourteenth': '14th',\n",
    "        'fifteenth': '15th',\n",
    "        'sixteenth': '16th',\n",
    "        'seventeenth': '17th',\n",
    "        'eighteenth': '18th',\n",
    "        'nineteenth': '19th',\n",
    "        'twentieth': '20th'}\n",
    "    words = s.split(' ')\n",
    "    for word in words:\n",
    "        if word.lower() in numbering:\n",
    "            s = s.replace(word, numbering[word.lower()])\n",
    "    return s"
   ]
  },
  {
   "cell_type": "code",
   "execution_count": 200,
   "metadata": {
    "collapsed": false
   },
   "outputs": [],
   "source": [
    "def process(bib_database):\n",
    "    for entry in bib_database.entries:\n",
    "        # Change ID\n",
    "        surname_of_first_author = author(deepcopy(entry))['author'][0].split(',')[0].strip().lower()\n",
    "        entry['ID'] = '{:s}{}'.format(surname_of_first_author, entry['year'])\n",
    "        \n",
    "        # journaltitle and booktitle\n",
    "        change_journal_to_journaltitle(entry)\n",
    "        for key in ['journaltitle', 'booktitle']:\n",
    "            if key in entry:\n",
    "                entry[key] = fix_IEEE_journals(entry[key])\n",
    "                if ' &' in entry[key]:\n",
    "                    entry[key] = entry[key].replace(' &', ' \\&')\n",
    "\n",
    "        if 'booktitle' in entry:\n",
    "            booktitle = entry['booktitle']\n",
    "\n",
    "            # Extract 'series' from 'booktitle'\n",
    "            if '(' in booktitle and ')' in booktitle:\n",
    "                start = booktitle.index('(')\n",
    "                end = booktitle.index(')')\n",
    "                if 'series' not in entry:\n",
    "                    entry['series'] = booktitle[start+1:end]\n",
    "                    print(\"setting 'series'\")\n",
    "                print(\"removing series from booktitle\")\n",
    "                booktitle = booktitle[:start].strip() + booktitle[end+1:].strip()\n",
    "\n",
    "            # Extract 'Proceedings of the ' from 'booktitle'\n",
    "            booktitle = booktitle.replace('Proceedings of the ', '')\n",
    "            \n",
    "            # Remove date from 'booktitle':\n",
    "            if re.match(r\"\"\"\\d{4}\"\"\", booktitle):\n",
    "                print(\"removing date from booktitle\")\n",
    "                booktitle = booktitle[5:]    \n",
    "        \n",
    "            # Convert 'first' to '1st' etc:\n",
    "            booktitle = numbering(booktitle)\n",
    "        \n",
    "            entry['booktitle'] = booktitle\n",
    "        \n",
    "        if 'series' in entry:\n",
    "            if \"'\" in entry['series']:\n",
    "                print(\"removing ' from series\")\n",
    "                entry['series'] = entry['series'].split(\"'\")[0].strip()\n",
    "        \n",
    "        for key_to_delete in ['keywords', 'file', 'mendeley-tags']:\n",
    "            entry.pop(key_to_delete, None)\n",
    "        change_month(entry)\n",
    "        lower_case_id(entry)\n",
    "\n",
    "        # Set 'publisher'\n",
    "        for publisher in ['ACM', 'IEEE']:\n",
    "            for key in ['journaltitle', 'booktitle']:\n",
    "                if publisher in entry.get(key, ''):\n",
    "                    if key == 'booktitle':\n",
    "                        print(\"removing\", publisher, \"from\", key)\n",
    "                        entry[key] = entry[key].replace(publisher + ' ', '')\n",
    "                \n",
    "                    if 'publisher' not in entry:\n",
    "                        entry['publisher'] = publisher\n",
    "                        print(\"setting publisher to\", publisher, \"for ID\", entry['ID'])\n",
    "\n",
    "        # Remove 'year' and 'month' and use 'date' instead\n",
    "        if 'date' not in entry:\n",
    "            if 'year' in entry:\n",
    "                year = entry.pop('year')\n",
    "                entry['date'] = year\n",
    "            if 'month' in entry:\n",
    "                month = entry.pop('month')\n",
    "                entry['date'] += '-{:02d}'.format(int(month))\n",
    "\n",
    "        if 'date' in entry:\n",
    "            date = entry['date']\n",
    "            def bad_date():\n",
    "                print(\"********##### BAD DATE\", entry['date'], entry['ID'])\n",
    "                \n",
    "            if len(date) > 7 and not re.match(r\"\"\"\\d{4}-\\d{2}-\\d{2}\"\"\", date):\n",
    "                bad_date()\n",
    "            elif len(date) > 4 and not re.match(r\"\"\"\\d{4}-\\d{2}\"\"\", date):\n",
    "                bad_date()\n",
    "            elif not re.match(r\"\"\"\\d{4}\"\"\", date):\n",
    "                bad_date()\n",
    "                \n",
    "        page_double_hyphen(entry)\n",
    "        \n",
    "        if 'doi' in entry:\n",
    "            entry['doi'] = entry['doi'].replace('http://dx.doi.org/', '')\n",
    "        \n",
    "            for key in ['url', 'eprint', 'eprinttype']:\n",
    "                if key in entry:\n",
    "                    entry.pop(key)\n",
    "                    print(\"removing\", key)\n",
    "                                \n",
    "        # Format title\n",
    "        entry['title'] = remove_curly_brackets(entry['title'])\n",
    "        if entry.get('publisher', '') == 'IEEE':\n",
    "            entry['title'] = titlecase(entry['title'])\n",
    "            \n",
    "        # Format abstract\n",
    "        if 'abstract' in entry:\n",
    "            entry['abstract'] = entry['abstract'].replace(\"\"\"\\{\"\"\", \"\")\n",
    "            entry['abstract'] = entry['abstract'].replace(\"\"\"\\}\"\"\", \"\")\n",
    "            \n",
    "        entry['owner'] = 'jack'\n",
    "        entry['timestamp'] = datetime.now().strftime('%Y.%m.%d')\n",
    "                        \n",
    "    return bib_database"
   ]
  },
  {
   "cell_type": "code",
   "execution_count": 201,
   "metadata": {
    "collapsed": false
   },
   "outputs": [],
   "source": [
    "bibtex = pyperclip.paste()\n",
    "\n",
    "# Fix broken IEEE end of string:\n",
    "if bibtex[-3:] == '},}':\n",
    "    bibtex = bibtex[:-2] + '\\n}'\n",
    "\n",
    "bibtex = bibtex.replace(\"\"\"abstract = \"Abstract \"\"\", \"\"\"abstract = {\"\"\")\n",
    "bibtex = bibtex.replace(\"\"\"abstract = \\\"\"\"\", \"\"\"abstract = {\"\"\")\n",
    "bibtex = bibtex.replace(\"\"\" \"\n",
    "\"\"\", \"\"\"}\n",
    "\"\"\")\n",
    "stringio = StringIO(bibtex)\n",
    "bib_database = load_bib(stringio=stringio)\n",
    "# print(stringio.read())"
   ]
  },
  {
   "cell_type": "code",
   "execution_count": 202,
   "metadata": {
    "collapsed": false,
    "scrolled": false
   },
   "outputs": [
    {
     "name": "stdout",
     "output_type": "stream",
     "text": [
      "----------------LOG----------------\n",
      "\n",
      "Changing 'journal=Applied Energy' to 'journaltitle' from ID:harris2015\n",
      "no month\n",
      "removing url\n",
      "{u'note': '', u'doi': u'10.1016/j.apenergy.2015.08.042', u'author': u'A.R. Harris and Michelle Marinich Rogers and Carol J. Miller and Shawn P. McElmurry and Caisheng Wang', u'title': u'Residential emissions reductions through variable timing of electricity consumption', 'journaltitle': u'Applied Energy', u'issn': u'0306-2619', u'number': '', u'abstract': u'A real-time electricity emissions estimating tool, the Locational Marginal Price Emissions Estimation Method (LEEM), is assessed for its ability to reduce emissions of sulfur dioxide (SO2), nitrogen oxides (NOx), global warming potential measured as carbon dioxide equivalent (CO2e), mercury (Hg), and lead (Pb) on a residential scale. Through LEEM, residential electricity use can be shifted to low emissions times of day. In the study area of Michigan, USA emissions from five types of appliances (hot water heater, refrigerator defrost, dishwasher, clothes washer, and clothes dryer) were calculated to be theoretically reduced by 21\\u201335% annually through a \\u201cbest-case\\u201d application of LEEM. Annual emissions of the five pollutants, SO2, NOx, CO2e, Hg, and Pb, can be reduced across the state by 429,000, 110,000, 87,240,000, 2.21, and 4.53 pounds, respectively \\u2013 all without a reduction in the electricity used in the period of study. Despite different fuel mixes, similar emissions reductions were calculated for other regions of the country, as well.', 'ENTRYTYPE': u'article', u'volume': u'158', 'owner': 'jack', 'timestamp': '2016.01.28', 'date': u'2015', 'ID': 'harris2015', u'pages': u'484--489'}\n",
      "\n",
      "\n",
      "\n",
      "----------------ORIGINAL-----------\n",
      "\n",
      "@article{Harris2015484,\n",
      "title = \"Residential emissions reductions through variable timing of electricity consumption \",\n",
      "journal = \"Applied Energy \",\n",
      "volume = \"158\",\n",
      "number = \"\",\n",
      "pages = \"484 - 489\",\n",
      "year = \"2015\",\n",
      "note = \"\",\n",
      "issn = \"0306-2619\",\n",
      "doi = \"http://dx.doi.org/10.1016/j.apenergy.2015.08.042\",\n",
      "url = \"http://www.sciencedirect.com/science/article/pii/S0306261915009757\",\n",
      "author = \"A.R. Harris and Michelle Marinich Rogers and Carol J. Miller and Shawn P. McElmurry and Caisheng Wang\",\n",
      "keywords = \"Emissions\",\n",
      "keywords = \"Electricity\",\n",
      "keywords = \"Residential\",\n",
      "keywords = \"Demand response\",\n",
      "keywords = \"Michigan\",\n",
      "keywords = \"Climate \",\n",
      "abstract = {A real-time electricity emissions estimating tool, the Locational Marginal Price Emissions Estimation Method (LEEM), is assessed for its ability to reduce emissions of sulfur dioxide (SO2), nitrogen oxides (NOx), global warming potential measured as carbon dioxide equivalent (CO2e), mercury (Hg), and lead (Pb) on a residential scale. Through LEEM, residential electricity use can be shifted to low emissions times of day. In the study area of Michigan, \\{USA\\} emissions from five types of appliances (hot water heater, refrigerator defrost, dishwasher, clothes washer, and clothes dryer) were calculated to be theoretically reduced by 21–35% annually through a “best-case” application of LEEM. Annual emissions of the five pollutants, SO2, NOx, CO2e, Hg, and Pb, can be reduced across the state by 429,000, 110,000, 87,240,000, 2.21, and 4.53 pounds, respectively – all without a reduction in the electricity used in the period of study. Despite different fuel mixes, similar emissions reductions were calculated for other regions of the country, as well.}\n",
      "}\n",
      "\n",
      "\n",
      "\n",
      "\n",
      "\n",
      "----------------PROCESSED----------\n",
      "\n",
      "@article{harris2015,\n",
      " abstract = {A real-time electricity emissions estimating tool, the Locational Marginal Price Emissions Estimation Method (LEEM), is assessed for its ability to reduce emissions of sulfur dioxide (SO2), nitrogen oxides (NOx), global warming potential measured as carbon dioxide equivalent (CO2e), mercury (Hg), and lead (Pb) on a residential scale. Through LEEM, residential electricity use can be shifted to low emissions times of day. In the study area of Michigan, USA emissions from five types of appliances (hot water heater, refrigerator defrost, dishwasher, clothes washer, and clothes dryer) were calculated to be theoretically reduced by 21–35% annually through a “best-case” application of LEEM. Annual emissions of the five pollutants, SO2, NOx, CO2e, Hg, and Pb, can be reduced across the state by 429,000, 110,000, 87,240,000, 2.21, and 4.53 pounds, respectively – all without a reduction in the electricity used in the period of study. Despite different fuel mixes, similar emissions reductions were calculated for other regions of the country, as well.},\n",
      " author = {A.R. Harris and Michelle Marinich Rogers and Carol J. Miller and Shawn P. McElmurry and Caisheng Wang},\n",
      " date = {2015},\n",
      " doi = {10.1016/j.apenergy.2015.08.042},\n",
      " issn = {0306-2619},\n",
      " journaltitle = {Applied Energy},\n",
      " note = {},\n",
      " number = {},\n",
      " owner = {jack},\n",
      " pages = {484--489},\n",
      " timestamp = {2016.01.28},\n",
      " title = {Residential emissions reductions through variable timing of electricity consumption},\n",
      " volume = {158}\n",
      "}\n",
      "\n",
      "\n"
     ]
    }
   ],
   "source": [
    "print(\"----------------LOG----------------\\n\")\n",
    "bib_database = process(bib_database)\n",
    "print(bib_database.entries[0])\n",
    "print(\"\\n\\n\")\n",
    "\n",
    "print(\"----------------ORIGINAL-----------\\n\")\n",
    "print(bibtex)\n",
    "\n",
    "print(\"\\n\\n\")\n",
    "print(\"----------------PROCESSED----------\\n\")\n",
    "bibstr = bibtexparser.dumps(bib_database)\n",
    "print(bibstr)\n",
    "\n",
    "pyperclip.copy(bibstr) #[:-4] + ',')"
   ]
  },
  {
   "cell_type": "code",
   "execution_count": 203,
   "metadata": {
    "collapsed": false
   },
   "outputs": [
    {
     "data": {
      "text/plain": [
       "'Low Cost Framework for Non-Intrusive Home Energy Monitoring and Research'"
      ]
     },
     "execution_count": 203,
     "metadata": {},
     "output_type": "execute_result"
    }
   ],
   "source": [
    "titlecase(\"LOW COST FRAMEWORK FOR NON-INTRUSIVE HOME ENERGY MONITORING AND RESEARCH\")"
   ]
  },
  {
   "cell_type": "code",
   "execution_count": 204,
   "metadata": {
    "collapsed": false
   },
   "outputs": [
    {
     "data": {
      "text/plain": [
       "'low cost framework for non-intrusive home energy monitoring and research'"
      ]
     },
     "execution_count": 204,
     "metadata": {},
     "output_type": "execute_result"
    }
   ],
   "source": [
    "\"LOW COST FRAMEWORK FOR NON-INTRUSIVE HOME ENERGY MONITORING AND RESEARCH\".lower()"
   ]
  },
  {
   "cell_type": "code",
   "execution_count": null,
   "metadata": {
    "collapsed": true
   },
   "outputs": [],
   "source": []
  }
 ],
 "metadata": {
  "kernelspec": {
   "display_name": "Python 2",
   "language": "python",
   "name": "python2"
  },
  "language_info": {
   "codemirror_mode": {
    "name": "ipython",
    "version": 2
   },
   "file_extension": ".py",
   "mimetype": "text/x-python",
   "name": "python",
   "nbconvert_exporter": "python",
   "pygments_lexer": "ipython2",
   "version": "2.7.10"
  }
 },
 "nbformat": 4,
 "nbformat_minor": 0
}
