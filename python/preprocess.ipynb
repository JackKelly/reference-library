{
 "cells": [
  {
   "cell_type": "code",
   "execution_count": 233,
   "metadata": {
    "collapsed": false
   },
   "outputs": [],
   "source": [
    "from bibutils import load_bib, write_bib\n",
    "import bibtexparser\n",
    "from bibtexparser.customization import author, page_double_hyphen\n",
    "from copy import deepcopy\n",
    "from titlecase import titlecase\n",
    "import calendar\n",
    "import re\n",
    "from StringIO import StringIO\n",
    "import pyperclip\n",
    "from datetime import datetime"
   ]
  },
  {
   "cell_type": "code",
   "execution_count": 234,
   "metadata": {
    "collapsed": false
   },
   "outputs": [],
   "source": [
    "def change_journal_to_journaltitle(entry):\n",
    "    journal = entry.pop('journal', None)\n",
    "    if journal:\n",
    "        print(u\"Changing 'journal={}' to 'journaltitle' from ID:{}\".format(journal, entry['ID']))\n",
    "        entry['journaltitle'] = journal\n",
    "\n",
    "def remove_curly_brackets(string):\n",
    "    return string.replace('{', '').replace('}', '')\n",
    "\n",
    "def change_month(entry):\n",
    "    try:\n",
    "        month = entry['month']\n",
    "    except KeyError:\n",
    "        print(\"no month\")\n",
    "        return\n",
    "    else:\n",
    "        month = month.lower()\n",
    "        month = month[:3]\n",
    "    print(\"Month\", month)\n",
    "    month_names = [month_name.lower() for month_name in calendar.month_abbr]\n",
    "    if month in month_names:\n",
    "        month_i = str(month_names.index(month))\n",
    "        print(u\"Changing month from\", month, u\"to\", month_i)\n",
    "        entry['month'] = month_i\n",
    "    \n",
    "def lower_case_id(entry):\n",
    "    bib_id = entry['ID']\n",
    "    if len(bib_id) >= 2 and bib_id[1].islower():\n",
    "        entry['ID'] = bib_id[0].lower() + bib_id[1:]\n",
    "        \n",
    "def fix_IEEE_journals(s):\n",
    "    split = s.split(',')\n",
    "    if len(split) > 1 and 'IEEE' in split[-1]:\n",
    "        print(\"replacing '{}' \".format(s), end='')\n",
    "        s = split[1].strip() + ' ' + split[0].strip()\n",
    "        print(\"with '{}'\".format(s))\n",
    "    return s\n",
    "\n",
    "def numbering(s):\n",
    "    numbering = {\n",
    "        'first': '1st',\n",
    "        'second': '2nd',\n",
    "        'third': '3rd',\n",
    "        'fourth': '4th',\n",
    "        'fifth': '5th',\n",
    "        'sixth': '6th',\n",
    "        'seventh': '7th',\n",
    "        'eighth': '8th',\n",
    "        'ninth': '9th',\n",
    "        'tenth': '10th',\n",
    "        'eleventh': '11th',\n",
    "        'twelfth': '12th',\n",
    "        'thirteenth': '13th',\n",
    "        'fourteenth': '14th',\n",
    "        'fifteenth': '15th',\n",
    "        'sixteenth': '16th',\n",
    "        'seventeenth': '17th',\n",
    "        'eighteenth': '18th',\n",
    "        'nineteenth': '19th',\n",
    "        'twentieth': '20th'}\n",
    "    words = s.split(' ')\n",
    "    for word in words:\n",
    "        if word.lower() in numbering:\n",
    "            s = s.replace(word, numbering[word.lower()])\n",
    "    return s"
   ]
  },
  {
   "cell_type": "code",
   "execution_count": 235,
   "metadata": {
    "collapsed": false
   },
   "outputs": [],
   "source": [
    "def process(bib_database):\n",
    "    for entry in bib_database.entries:\n",
    "        # Change ID\n",
    "        surname_of_first_author = author(deepcopy(entry))['author'][0].split(',')[0].strip().lower()\n",
    "        entry['ID'] = '{:s}{}'.format(surname_of_first_author, entry['year'])\n",
    "        \n",
    "        # journaltitle and booktitle\n",
    "        change_journal_to_journaltitle(entry)\n",
    "        for key in ['journaltitle', 'booktitle']:\n",
    "            if key in entry:\n",
    "                entry[key] = fix_IEEE_journals(entry[key])\n",
    "                if ' &' in entry[key]:\n",
    "                    entry[key] = entry[key].replace(' &', ' \\&')\n",
    "\n",
    "        if 'booktitle' in entry:\n",
    "            booktitle = entry['booktitle']\n",
    "\n",
    "            # Extract 'series' from 'booktitle'\n",
    "            if '(' in booktitle and ')' in booktitle:\n",
    "                start = booktitle.index('(')\n",
    "                end = booktitle.index(')')\n",
    "                if 'series' not in entry:\n",
    "                    entry['series'] = booktitle[start+1:end]\n",
    "                    print(\"setting 'series'\")\n",
    "                print(\"removing series from booktitle\")\n",
    "                booktitle = booktitle[:start].strip() + booktitle[end+1:].strip()\n",
    "\n",
    "            # Extract 'Proceedings of the ' from 'booktitle'\n",
    "            booktitle = booktitle.replace('Proceedings of the ', '')\n",
    "            \n",
    "            # Remove date from 'booktitle':\n",
    "            if re.match(r\"\"\"\\d{4}\"\"\", booktitle):\n",
    "                print(\"removing date from booktitle\")\n",
    "                booktitle = booktitle[5:]    \n",
    "        \n",
    "            # Convert 'first' to '1st' etc:\n",
    "            booktitle = numbering(booktitle)\n",
    "        \n",
    "            entry['booktitle'] = booktitle\n",
    "        \n",
    "        if 'series' in entry:\n",
    "            if \"'\" in entry['series']:\n",
    "                print(\"removing ' from series\")\n",
    "                entry['series'] = entry['series'].split(\"'\")[0].strip()\n",
    "        \n",
    "        for key_to_delete in ['keywords', 'file', 'mendeley-tags']:\n",
    "            entry.pop(key_to_delete, None)\n",
    "        change_month(entry)\n",
    "        lower_case_id(entry)\n",
    "\n",
    "        # Set 'publisher'\n",
    "        for publisher in ['ACM', 'IEEE']:\n",
    "            for key in ['journaltitle', 'booktitle']:\n",
    "                if publisher in entry.get(key, ''):\n",
    "                    if key == 'booktitle':\n",
    "                        print(\"removing\", publisher, \"from\", key)\n",
    "                        entry[key] = entry[key].replace(publisher + ' ', '')\n",
    "                \n",
    "                    if 'publisher' not in entry:\n",
    "                        entry['publisher'] = publisher\n",
    "                        print(\"setting publisher to\", publisher, \"for ID\", entry['ID'])\n",
    "\n",
    "        # Remove 'year' and 'month' and use 'date' instead\n",
    "        if 'date' not in entry:\n",
    "            if 'year' in entry:\n",
    "                year = entry.pop('year')\n",
    "                entry['date'] = year\n",
    "            if 'month' in entry:\n",
    "                month = entry.pop('month')\n",
    "                entry['date'] += '-{:02d}'.format(int(month))\n",
    "\n",
    "        if 'date' in entry:\n",
    "            date = entry['date']\n",
    "            def bad_date():\n",
    "                print(\"********##### BAD DATE\", entry['date'], entry['ID'])\n",
    "                \n",
    "            if len(date) > 7 and not re.match(r\"\"\"\\d{4}-\\d{2}-\\d{2}\"\"\", date):\n",
    "                bad_date()\n",
    "            elif len(date) > 4 and not re.match(r\"\"\"\\d{4}-\\d{2}\"\"\", date):\n",
    "                bad_date()\n",
    "            elif not re.match(r\"\"\"\\d{4}\"\"\", date):\n",
    "                bad_date()\n",
    "                \n",
    "        page_double_hyphen(entry)\n",
    "        \n",
    "        if 'doi' in entry:\n",
    "            entry['doi'] = entry['doi'].replace('http://dx.doi.org/', '')\n",
    "        \n",
    "            for key in ['url', 'eprint', 'eprinttype']:\n",
    "                if key in entry:\n",
    "                    entry.pop(key)\n",
    "                    print(\"removing\", key)\n",
    "                                \n",
    "        # Format title\n",
    "        entry['title'] = remove_curly_brackets(entry['title'])\n",
    "        if entry.get('publisher', '') == 'IEEE':\n",
    "            entry['title'] = titlecase(entry['title'])\n",
    "            \n",
    "        # Format abstract\n",
    "        if 'abstract' in entry:\n",
    "            entry['abstract'] = entry['abstract'].replace(\"\"\"\\{\"\"\", \"\")\n",
    "            entry['abstract'] = entry['abstract'].replace(\"\"\"\\}\"\"\", \"\")\n",
    "            \n",
    "        entry['owner'] = 'jack'\n",
    "        entry['timestamp'] = datetime.now().strftime('%Y.%m.%d')\n",
    "                        \n",
    "    return bib_database"
   ]
  },
  {
   "cell_type": "code",
   "execution_count": 236,
   "metadata": {
    "collapsed": false
   },
   "outputs": [],
   "source": [
    "bibtex = pyperclip.paste()\n",
    "\n",
    "# Fix broken IEEE end of string:\n",
    "if bibtex[-3:] == '},}':\n",
    "    bibtex = bibtex[:-2] + '\\n}'\n",
    "\n",
    "bibtex = bibtex.replace(\"\"\"abstract = \"Abstract \"\"\", \"\"\"abstract = {\"\"\")\n",
    "bibtex = bibtex.replace(\"\"\"abstract = \\\"\"\"\", \"\"\"abstract = {\"\"\")\n",
    "bibtex = bibtex.replace(\"\"\" \"\n",
    "\"\"\", \"\"\"}\n",
    "\"\"\")\n",
    "stringio = StringIO(bibtex)\n",
    "bib_database = load_bib(stringio=stringio)\n",
    "# print(stringio.read())"
   ]
  },
  {
   "cell_type": "code",
   "execution_count": 237,
   "metadata": {
    "collapsed": false,
    "scrolled": false
   },
   "outputs": [
    {
     "name": "stdout",
     "output_type": "stream",
     "text": [
      "----------------LOG----------------\n",
      "\n",
      "setting 'series'\n",
      "removing series from booktitle\n",
      "Month apr\n",
      "Changing month from apr to 4\n",
      "{u'doi': u'10.1109/SustainIT.2015.7101374', u'title': u'Exploring the dimensions of eco-feedback in the wild', 'ENTRYTYPE': u'inproceedings', 'series': u'SustainIT', u'booktitle': u'Sustainable Internet and ICT for Sustainability, 2015', u'author': u'Quintal, F. and Nunes, N.J. and Nisi, V.', u'abstract': u'This paper presents our efforts in understanding the long-term effects of eco-feedback devices. Our work argues that lack of long term in the wild studies is a missed opportunity to understand how these devices are used after the novelty wears off. We build on previous work that showed a significant decrease in user awareness after a short period with a relapse in consumption, with the presented studies we aimed to investigate if new forms of feedback could overcome this issue, maintaining the users awareness for longer periods of time.', 'owner': 'jack', 'timestamp': '2016.01.28', 'date': u'2015-04', 'ID': 'quintal2015', u'pages': u'1--3'}\n",
      "\n",
      "\n",
      "\n",
      "----------------ORIGINAL-----------\n",
      "\n",
      "@INPROCEEDINGS{7101374, \n",
      "author={Quintal, F. and Nunes, N.J. and Nisi, V.}, \n",
      "booktitle={Sustainable Internet and ICT for Sustainability (SustainIT), 2015}, \n",
      "title={Exploring the dimensions of eco-feedback in the wild}, \n",
      "year={2015}, \n",
      "pages={1-3}, \n",
      "abstract={This paper presents our efforts in understanding the long-term effects of eco-feedback devices. Our work argues that lack of long term in the wild studies is a missed opportunity to understand how these devices are used after the novelty wears off. We build on previous work that showed a significant decrease in user awareness after a short period with a relapse in consumption, with the presented studies we aimed to investigate if new forms of feedback could overcome this issue, maintaining the users awareness for longer periods of time.}, \n",
      "keywords={ecology;energy consumption;user interfaces;eco-feedback device;user awareness;Concrete;Energy consumption;Europe;Home appliances;Real-time systems;Sensors;Eco-feedback;Prototyping;Sustainability;User Interfaces}, \n",
      "doi={10.1109/SustainIT.2015.7101374}, \n",
      "month={April}\n",
      "}\n",
      "\n",
      "\n",
      "\n",
      "----------------PROCESSED----------\n",
      "\n",
      "@inproceedings{quintal2015,\n",
      " abstract = {This paper presents our efforts in understanding the long-term effects of eco-feedback devices. Our work argues that lack of long term in the wild studies is a missed opportunity to understand how these devices are used after the novelty wears off. We build on previous work that showed a significant decrease in user awareness after a short period with a relapse in consumption, with the presented studies we aimed to investigate if new forms of feedback could overcome this issue, maintaining the users awareness for longer periods of time.},\n",
      " author = {Quintal, F. and Nunes, N.J. and Nisi, V.},\n",
      " booktitle = {Sustainable Internet and ICT for Sustainability, 2015},\n",
      " date = {2015-04},\n",
      " doi = {10.1109/SustainIT.2015.7101374},\n",
      " owner = {jack},\n",
      " pages = {1--3},\n",
      " series = {SustainIT},\n",
      " timestamp = {2016.01.28},\n",
      " title = {Exploring the dimensions of eco-feedback in the wild}\n",
      "}\n",
      "\n",
      "\n"
     ]
    }
   ],
   "source": [
    "print(\"----------------LOG----------------\\n\")\n",
    "bib_database = process(bib_database)\n",
    "print(bib_database.entries[0])\n",
    "print(\"\\n\\n\")\n",
    "\n",
    "print(\"----------------ORIGINAL-----------\\n\")\n",
    "print(bibtex)\n",
    "\n",
    "print(\"\\n\\n\")\n",
    "print(\"----------------PROCESSED----------\\n\")\n",
    "bibstr = bibtexparser.dumps(bib_database)\n",
    "print(bibstr)\n",
    "\n",
    "pyperclip.copy(bibstr) #[:-4] + ',')"
   ]
  },
  {
   "cell_type": "code",
   "execution_count": 238,
   "metadata": {
    "collapsed": false
   },
   "outputs": [
    {
     "data": {
      "text/plain": [
       "'Low Cost Framework for Non-Intrusive Home Energy Monitoring and Research'"
      ]
     },
     "execution_count": 238,
     "metadata": {},
     "output_type": "execute_result"
    }
   ],
   "source": [
    "titlecase(\"LOW COST FRAMEWORK FOR NON-INTRUSIVE HOME ENERGY MONITORING AND RESEARCH\")"
   ]
  },
  {
   "cell_type": "code",
   "execution_count": 239,
   "metadata": {
    "collapsed": false
   },
   "outputs": [
    {
     "data": {
      "text/plain": [
       "'low cost framework for non-intrusive home energy monitoring and research'"
      ]
     },
     "execution_count": 239,
     "metadata": {},
     "output_type": "execute_result"
    }
   ],
   "source": [
    "\"LOW COST FRAMEWORK FOR NON-INTRUSIVE HOME ENERGY MONITORING AND RESEARCH\".lower()"
   ]
  },
  {
   "cell_type": "code",
   "execution_count": null,
   "metadata": {
    "collapsed": true
   },
   "outputs": [],
   "source": []
  }
 ],
 "metadata": {
  "kernelspec": {
   "display_name": "Python 2",
   "language": "python",
   "name": "python2"
  },
  "language_info": {
   "codemirror_mode": {
    "name": "ipython",
    "version": 2
   },
   "file_extension": ".py",
   "mimetype": "text/x-python",
   "name": "python",
   "nbconvert_exporter": "python",
   "pygments_lexer": "ipython2",
   "version": "2.7.10"
  }
 },
 "nbformat": 4,
 "nbformat_minor": 0
}
