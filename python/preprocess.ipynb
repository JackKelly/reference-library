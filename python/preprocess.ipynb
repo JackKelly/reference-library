{
 "cells": [
  {
   "cell_type": "code",
   "execution_count": 36,
   "metadata": {
    "collapsed": false
   },
   "outputs": [],
   "source": [
    "from bibutils import load_bib, write_bib\n",
    "import bibtexparser\n",
    "from bibtexparser.customization import author, page_double_hyphen\n",
    "from copy import deepcopy\n",
    "from titlecase import titlecase\n",
    "import calendar\n",
    "import re\n",
    "from StringIO import StringIO\n",
    "import pyperclip\n",
    "from datetime import datetime"
   ]
  },
  {
   "cell_type": "code",
   "execution_count": 37,
   "metadata": {
    "collapsed": false
   },
   "outputs": [],
   "source": [
    "def change_journal_to_journaltitle(entry):\n",
    "    journal = entry.pop('journal', None)\n",
    "    if journal:\n",
    "        print(u\"Changing 'journal={}' to 'journaltitle' from ID:{}\".format(journal, entry['ID']))\n",
    "        entry['journaltitle'] = journal\n",
    "\n",
    "def remove_curly_brackets(string):\n",
    "    return string.replace('{', '').replace('}', '')\n",
    "\n",
    "def change_month(entry):\n",
    "    try:\n",
    "        month = entry['month']\n",
    "    except KeyError:\n",
    "        print(\"no month\")\n",
    "        return\n",
    "    else:\n",
    "        month = month.lower()\n",
    "        month = month[:3]\n",
    "    print(\"Month\", month)\n",
    "    month_names = [month_name.lower() for month_name in calendar.month_abbr]\n",
    "    if month in month_names:\n",
    "        month_i = str(month_names.index(month))\n",
    "        print(u\"Changing month from\", month, u\"to\", month_i)\n",
    "        entry['month'] = month_i\n",
    "    \n",
    "def lower_case_id(entry):\n",
    "    bib_id = entry['ID']\n",
    "    if len(bib_id) >= 2 and bib_id[1].islower():\n",
    "        entry['ID'] = bib_id[0].lower() + bib_id[1:]\n",
    "        \n",
    "def fix_IEEE_journals(s):\n",
    "    split = s.split(',')\n",
    "    if len(split) > 1 and 'IEEE' in split[-1]:\n",
    "        print(\"replacing '{}' \".format(s), end='')\n",
    "        s = split[1].strip() + ' ' + split[0].strip()\n",
    "        print(\"with '{}'\".format(s))\n",
    "    return s\n",
    "\n",
    "def numbering(s):\n",
    "    numbering = {\n",
    "        'first': '1st',\n",
    "        'second': '2nd',\n",
    "        'third': '3rd',\n",
    "        'fourth': '4th',\n",
    "        'fifth': '5th',\n",
    "        'sixth': '6th',\n",
    "        'seventh': '7th',\n",
    "        'eighth': '8th',\n",
    "        'ninth': '9th',\n",
    "        'tenth': '10th',\n",
    "        'eleventh': '11th',\n",
    "        'twelfth': '12th',\n",
    "        'thirteenth': '13th',\n",
    "        'fourteenth': '14th',\n",
    "        'fifteenth': '15th',\n",
    "        'sixteenth': '16th',\n",
    "        'seventeenth': '17th',\n",
    "        'eighteenth': '18th',\n",
    "        'nineteenth': '19th',\n",
    "        'twentieth': '20th'}\n",
    "    words = s.split(' ')\n",
    "    for word in words:\n",
    "        if word.lower() in numbering:\n",
    "            s = s.replace(word, numbering[word.lower()])\n",
    "    return s"
   ]
  },
  {
   "cell_type": "code",
   "execution_count": 38,
   "metadata": {
    "collapsed": false
   },
   "outputs": [],
   "source": [
    "def process(bib_database):\n",
    "    for entry in bib_database.entries:\n",
    "        # Change ID\n",
    "        surname_of_first_author = author(deepcopy(entry))['author'][0].split(',')[0].strip().lower()\n",
    "        entry['ID'] = '{:s}{}'.format(surname_of_first_author, entry['year'])\n",
    "        \n",
    "        # journaltitle and booktitle\n",
    "        change_journal_to_journaltitle(entry)\n",
    "        for key in ['journaltitle', 'booktitle']:\n",
    "            if key in entry:\n",
    "                entry[key] = fix_IEEE_journals(entry[key])\n",
    "                if ' &' in entry[key]:\n",
    "                    entry[key] = entry[key].replace(' &', ' \\&')\n",
    "\n",
    "        if 'booktitle' in entry:\n",
    "            booktitle = entry['booktitle']\n",
    "\n",
    "            # Extract 'series' from 'booktitle'\n",
    "            if '(' in booktitle and ')' in booktitle:\n",
    "                start = booktitle.index('(')\n",
    "                end = booktitle.index(')')\n",
    "                if 'series' not in entry:\n",
    "                    entry['series'] = booktitle[start+1:end]\n",
    "                    print(\"setting 'series'\")\n",
    "                print(\"removing series from booktitle\")\n",
    "                booktitle = booktitle[:start].strip() + booktitle[end+1:].strip()\n",
    "\n",
    "            # Extract 'Proceedings of the ' from 'booktitle'\n",
    "            booktitle = booktitle.replace('Proceedings of the ', '')\n",
    "            \n",
    "            # Remove date from 'booktitle':\n",
    "            if re.match(r\"\"\"\\d{4}\"\"\", booktitle):\n",
    "                print(\"removing date from booktitle\")\n",
    "                booktitle = booktitle[5:]    \n",
    "        \n",
    "            # Convert 'first' to '1st' etc:\n",
    "            booktitle = numbering(booktitle)\n",
    "        \n",
    "            entry['booktitle'] = booktitle\n",
    "        \n",
    "        if 'series' in entry:\n",
    "            if \"'\" in entry['series']:\n",
    "                print(\"removing ' from series\")\n",
    "                entry['series'] = entry['series'].split(\"'\")[0].strip()\n",
    "        \n",
    "        for key_to_delete in ['keywords', 'file', 'mendeley-tags']:\n",
    "            entry.pop(key_to_delete, None)\n",
    "        change_month(entry)\n",
    "        lower_case_id(entry)\n",
    "\n",
    "        # Set 'publisher'\n",
    "        for publisher in ['ACM', 'IEEE']:\n",
    "            for key in ['journaltitle', 'booktitle']:\n",
    "                if publisher in entry.get(key, ''):\n",
    "                    if key == 'booktitle':\n",
    "                        print(\"removing\", publisher, \"from\", key)\n",
    "                        entry[key] = entry[key].replace(publisher + ' ', '')\n",
    "                \n",
    "                    if 'publisher' not in entry:\n",
    "                        entry['publisher'] = publisher\n",
    "                        print(\"setting publisher to\", publisher, \"for ID\", entry['ID'])\n",
    "\n",
    "        # Remove 'year' and 'month' and use 'date' instead\n",
    "        if 'date' not in entry:\n",
    "            if 'year' in entry:\n",
    "                year = entry.pop('year')\n",
    "                entry['date'] = year\n",
    "            if 'month' in entry:\n",
    "                month = entry.pop('month')\n",
    "                entry['date'] += '-{:02d}'.format(int(month))\n",
    "\n",
    "        if 'date' in entry:\n",
    "            date = entry['date']\n",
    "            def bad_date():\n",
    "                print(\"********##### BAD DATE\", entry['date'], entry['ID'])\n",
    "                \n",
    "            if len(date) > 7 and not re.match(r\"\"\"\\d{4}-\\d{2}-\\d{2}\"\"\", date):\n",
    "                bad_date()\n",
    "            elif len(date) > 4 and not re.match(r\"\"\"\\d{4}-\\d{2}\"\"\", date):\n",
    "                bad_date()\n",
    "            elif not re.match(r\"\"\"\\d{4}\"\"\", date):\n",
    "                bad_date()\n",
    "                \n",
    "        page_double_hyphen(entry)\n",
    "        \n",
    "        if 'doi' in entry:\n",
    "            entry['doi'] = entry['doi'].replace('http://dx.doi.org/', '')\n",
    "        \n",
    "            for key in ['url', 'eprint', 'eprinttype']:\n",
    "                if key in entry:\n",
    "                    entry.pop(key)\n",
    "                    print(\"removing\", key)\n",
    "                                \n",
    "        # Format title\n",
    "        entry['title'] = remove_curly_brackets(entry['title'])\n",
    "        if entry.get('publisher', '') == 'IEEE':\n",
    "            entry['title'] = titlecase(entry['title'])\n",
    "            \n",
    "        # Format abstract\n",
    "        if 'abstract' in entry:\n",
    "            entry['abstract'] = entry['abstract'].replace(\"\"\"\\{\"\"\", \"\")\n",
    "            entry['abstract'] = entry['abstract'].replace(\"\"\"\\}\"\"\", \"\")\n",
    "            \n",
    "        entry['owner'] = 'jack'\n",
    "        entry['timestamp'] = datetime.now().strftime('%Y.%m.%d')\n",
    "                        \n",
    "    return bib_database"
   ]
  },
  {
   "cell_type": "code",
   "execution_count": 39,
   "metadata": {
    "collapsed": false
   },
   "outputs": [],
   "source": [
    "bibtex = pyperclip.paste()\n",
    "\n",
    "# Fix broken IEEE end of string:\n",
    "if bibtex[-3:] == '},}':\n",
    "    bibtex = bibtex[:-2] + '\\n}'\n",
    "\n",
    "bibtex = bibtex.replace(\"\"\"abstract = \"Abstract \"\"\", \"\"\"abstract = {\"\"\")\n",
    "bibtex = bibtex.replace(\"\"\"abstract = \\\"\"\"\", \"\"\"abstract = {\"\"\")\n",
    "bibtex = bibtex.replace(\"\"\" \"\n",
    "\"\"\", \"\"\"}\n",
    "\"\"\")\n",
    "stringio = StringIO(bibtex)\n",
    "bib_database = load_bib(stringio=stringio)\n",
    "# print(stringio.read())"
   ]
  },
  {
   "cell_type": "code",
   "execution_count": 40,
   "metadata": {
    "collapsed": false,
    "scrolled": false
   },
   "outputs": [
    {
     "name": "stdout",
     "output_type": "stream",
     "text": [
      "----------------LOG----------------\n",
      "\n",
      "Changing 'journal=Energy and Buildings' to 'journaltitle' from ID:ippolito2014\n",
      "no month\n",
      "removing url\n",
      "{u'note': '', u'doi': u'10.1016/j.enbuild.2013.10.025', u'author': u'M.G. Ippolito and E. Riva Sanseverino and G. Zizzo', u'title': u'Impact of building automation control systems and technical building management systems on the energy performance class of residential buildings: An Italian case study', 'journaltitle': u'Energy and Buildings', u'issn': u'0378-7788', u'number': '', u'abstract': u'The paper focuses on the evaluation of the impact on residential buildings of building automation control (BAC) and technical building management (TBM) systems. This work shows how the control, monitoring and automation functions considered by the European Standard EN 15232 can considerably influence the energy performance of a single-family test house and, consequently, its energy performance class. The study puts into evidence that the benefit that can be drawn from the installation of BAC and TBM systems depends on the type of technical appliances in the household and on the starting energy performance class. Finally, the economic impact due to the introduction of BACS or TBM function is evaluated for different starting energy classes of the household under consideration.', 'ENTRYTYPE': u'article', u'volume': u'69', 'owner': 'jack', 'timestamp': '2016.02.02', 'date': u'2014', 'ID': 'ippolito2014', u'pages': u'33--40'}\n",
      "\n",
      "\n",
      "\n",
      "----------------ORIGINAL-----------\n",
      "\n",
      "@article{Ippolito201433,\n",
      "title = \"Impact of building automation control systems and technical building management systems on the energy performance class of residential buildings: An Italian case study \",\n",
      "journal = \"Energy and Buildings \",\n",
      "volume = \"69\",\n",
      "number = \"\",\n",
      "pages = \"33 - 40\",\n",
      "year = \"2014\",\n",
      "note = \"\",\n",
      "issn = \"0378-7788\",\n",
      "doi = \"http://dx.doi.org/10.1016/j.enbuild.2013.10.025\",\n",
      "url = \"http://www.sciencedirect.com/science/article/pii/S0378778813006713\",\n",
      "author = \"M.G. Ippolito and E. Riva Sanseverino and G. Zizzo\",\n",
      "keywords = \"\\{BAC\\} factors\",\n",
      "keywords = \"TBM systems\",\n",
      "keywords = \"EN 15232\",\n",
      "keywords = \"Building \",\n",
      "abstract = {The paper focuses on the evaluation of the impact on residential buildings of building automation control (BAC) and technical building management (TBM) systems. This work shows how the control, monitoring and automation functions considered by the European Standard \\{EN\\} 15232 can considerably influence the energy performance of a single-family test house and, consequently, its energy performance class. The study puts into evidence that the benefit that can be drawn from the installation of \\{BAC\\} and \\{TBM\\} systems depends on the type of technical appliances in the household and on the starting energy performance class. Finally, the economic impact due to the introduction of \\{BACS\\} or \\{TBM\\} function is evaluated for different starting energy classes of the household under consideration.}\n",
      "}\n",
      "\n",
      "\n",
      "\n",
      "\n",
      "\n",
      "----------------PROCESSED----------\n",
      "\n",
      "@article{ippolito2014,\n",
      " abstract = {The paper focuses on the evaluation of the impact on residential buildings of building automation control (BAC) and technical building management (TBM) systems. This work shows how the control, monitoring and automation functions considered by the European Standard EN 15232 can considerably influence the energy performance of a single-family test house and, consequently, its energy performance class. The study puts into evidence that the benefit that can be drawn from the installation of BAC and TBM systems depends on the type of technical appliances in the household and on the starting energy performance class. Finally, the economic impact due to the introduction of BACS or TBM function is evaluated for different starting energy classes of the household under consideration.},\n",
      " author = {M.G. Ippolito and E. Riva Sanseverino and G. Zizzo},\n",
      " date = {2014},\n",
      " doi = {10.1016/j.enbuild.2013.10.025},\n",
      " issn = {0378-7788},\n",
      " journaltitle = {Energy and Buildings},\n",
      " note = {},\n",
      " number = {},\n",
      " owner = {jack},\n",
      " pages = {33--40},\n",
      " timestamp = {2016.02.02},\n",
      " title = {Impact of building automation control systems and technical building management systems on the energy performance class of residential buildings: An Italian case study},\n",
      " volume = {69}\n",
      "}\n",
      "\n",
      "\n"
     ]
    }
   ],
   "source": [
    "print(\"----------------LOG----------------\\n\")\n",
    "bib_database = process(bib_database)\n",
    "print(bib_database.entries[0])\n",
    "print(\"\\n\\n\")\n",
    "\n",
    "print(\"----------------ORIGINAL-----------\\n\")\n",
    "print(bibtex)\n",
    "\n",
    "print(\"\\n\\n\")\n",
    "print(\"----------------PROCESSED----------\\n\")\n",
    "bibstr = bibtexparser.dumps(bib_database)\n",
    "print(bibstr)\n",
    "\n",
    "pyperclip.copy(bibstr) #[:-4] + ',')"
   ]
  },
  {
   "cell_type": "code",
   "execution_count": 41,
   "metadata": {
    "collapsed": false
   },
   "outputs": [
    {
     "data": {
      "text/plain": [
       "'Low Cost Framework for Non-Intrusive Home Energy Monitoring and Research'"
      ]
     },
     "execution_count": 41,
     "metadata": {},
     "output_type": "execute_result"
    }
   ],
   "source": [
    "titlecase(\"LOW COST FRAMEWORK FOR NON-INTRUSIVE HOME ENERGY MONITORING AND RESEARCH\")"
   ]
  },
  {
   "cell_type": "code",
   "execution_count": 42,
   "metadata": {
    "collapsed": false
   },
   "outputs": [
    {
     "data": {
      "text/plain": [
       "'low cost framework for non-intrusive home energy monitoring and research'"
      ]
     },
     "execution_count": 42,
     "metadata": {},
     "output_type": "execute_result"
    }
   ],
   "source": [
    "\"LOW COST FRAMEWORK FOR NON-INTRUSIVE HOME ENERGY MONITORING AND RESEARCH\".lower()"
   ]
  },
  {
   "cell_type": "code",
   "execution_count": null,
   "metadata": {
    "collapsed": true
   },
   "outputs": [],
   "source": []
  }
 ],
 "metadata": {
  "kernelspec": {
   "display_name": "Python 2",
   "language": "python",
   "name": "python2"
  },
  "language_info": {
   "codemirror_mode": {
    "name": "ipython",
    "version": 2
   },
   "file_extension": ".py",
   "mimetype": "text/x-python",
   "name": "python",
   "nbconvert_exporter": "python",
   "pygments_lexer": "ipython2",
   "version": "2.7.10"
  }
 },
 "nbformat": 4,
 "nbformat_minor": 0
}
