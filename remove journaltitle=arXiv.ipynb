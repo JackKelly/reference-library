{
 "cells": [
  {
   "cell_type": "code",
   "execution_count": null,
   "metadata": {
    "collapsed": true
   },
   "outputs": [],
   "source": [
    "from bibutils import load_bib, write_bib\n",
    "bib_database = load_bib()\n",
    "len(bib_database.entries)"
   ]
  },
  {
   "cell_type": "code",
   "execution_count": 10,
   "metadata": {
    "collapsed": false
   },
   "outputs": [
    {
     "name": "stdout",
     "output_type": "stream",
     "text": [
      "Removing 'arxiv preprint arxiv:1412.6581' from ID:fabius2015variational\n",
      "Removing 'arxiv preprint arxiv:1502.03509' from ID:germain2015MADE\n",
      "Removing 'arxiv preprint' from ID:graves2013generating-sequences\n",
      "Removing 'arxiv preprint arxiv:1502.03167' from ID:ioffe2015batch-normalization\n",
      "Removing 'arxiv preprint arxiv:1506.02025' from ID:jaderberg2015STN\n",
      "Removing 'arxiv preprint arxiv:1312.6114' from ID:kingma2013VAE\n",
      "Removing 'arxiv preprint arxiv:1504.00941' from ID:le2015ReLU-RNNs\n",
      "Removing 'arxiv preprint' from ID:mnih2013playing-atari\n",
      "Removing 'arxiv preprint arxiv:1401.4082' from ID:rezende2014stochastic\n",
      "Removing 'arxiv preprint arxiv:1509.05329' from ID:sonderby2015RNN-SPN\n",
      "Removing 'arxiv preprint arxiv:1410.7550' from ID:wahlstrom2014deep-dynamical\n"
     ]
    }
   ],
   "source": [
    "for entry in bib_database.entries:\n",
    "    journaltitle = entry.get('journaltitle', '').lower()\n",
    "    if not journaltitle:\n",
    "        journaltitle = entry.get('journal', '').lower()\n",
    "    if 'arxiv' in journaltitle:\n",
    "        if 'eprint' not in entry:\n",
    "            print(\"NOT PROCESSING '{}' because 'eprint' is not set!\".format(entry['ID']))\n",
    "        else:\n",
    "            entry['eprinttype'] = 'arXiv'\n",
    "            print(\"Removing '{}' from ID:{}\".format(journaltitle, entry['ID']))\n",
    "            entry.pop('journaltitle', None)\n",
    "            entry.pop('journal', None)"
   ]
  },
  {
   "cell_type": "code",
   "execution_count": 11,
   "metadata": {
    "collapsed": false
   },
   "outputs": [],
   "source": [
    "write_bib(bib_database)"
   ]
  }
 ],
 "metadata": {
  "kernelspec": {
   "display_name": "Python 2",
   "language": "python",
   "name": "python2"
  },
  "language_info": {
   "codemirror_mode": {
    "name": "ipython",
    "version": 2
   },
   "file_extension": ".py",
   "mimetype": "text/x-python",
   "name": "python",
   "nbconvert_exporter": "python",
   "pygments_lexer": "ipython2",
   "version": "2.7.10"
  }
 },
 "nbformat": 4,
 "nbformat_minor": 0
}
