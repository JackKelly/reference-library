{
 "cells": [
  {
   "cell_type": "code",
   "execution_count": 1,
   "metadata": {
    "collapsed": true
   },
   "outputs": [],
   "source": [
    "import bibtexparser as bibtexparser"
   ]
  },
  {
   "cell_type": "code",
   "execution_count": 2,
   "metadata": {
    "collapsed": true
   },
   "outputs": [],
   "source": [
    "BIB_FILENAME = 'library.bib'"
   ]
  },
  {
   "cell_type": "code",
   "execution_count": 3,
   "metadata": {
    "collapsed": false
   },
   "outputs": [],
   "source": [
    "parser = bibtexparser.bparser.BibTexParser()\n",
    "parser.ignore_nonstandard_types = False\n",
    "parser.homogenise_fields = False"
   ]
  },
  {
   "cell_type": "code",
   "execution_count": 4,
   "metadata": {
    "collapsed": false
   },
   "outputs": [],
   "source": [
    "with open(BIB_FILENAME) as bibtex_file:\n",
    "    bib_database = bibtexparser.load(bibtex_file, parser=parser)"
   ]
  },
  {
   "cell_type": "code",
   "execution_count": 5,
   "metadata": {
    "collapsed": false
   },
   "outputs": [
    {
     "data": {
      "text/plain": [
       "135"
      ]
     },
     "execution_count": 5,
     "metadata": {},
     "output_type": "execute_result"
    }
   ],
   "source": [
    "len(bib_database.entries)"
   ]
  },
  {
   "cell_type": "code",
   "execution_count": 10,
   "metadata": {
    "collapsed": false
   },
   "outputs": [
    {
     "name": "stdout",
     "output_type": "stream",
     "text": [
      "Removing 'arxiv preprint arxiv:1412.6581' from ID:fabius2015variational\n",
      "Removing 'arxiv preprint arxiv:1502.03509' from ID:germain2015MADE\n",
      "Removing 'arxiv preprint' from ID:graves2013generating-sequences\n",
      "Removing 'arxiv preprint arxiv:1502.03167' from ID:ioffe2015batch-normalization\n",
      "Removing 'arxiv preprint arxiv:1506.02025' from ID:jaderberg2015STN\n",
      "Removing 'arxiv preprint arxiv:1312.6114' from ID:kingma2013VAE\n",
      "Removing 'arxiv preprint arxiv:1504.00941' from ID:le2015ReLU-RNNs\n",
      "Removing 'arxiv preprint' from ID:mnih2013playing-atari\n",
      "Removing 'arxiv preprint arxiv:1401.4082' from ID:rezende2014stochastic\n",
      "Removing 'arxiv preprint arxiv:1509.05329' from ID:sonderby2015RNN-SPN\n",
      "Removing 'arxiv preprint arxiv:1410.7550' from ID:wahlstrom2014deep-dynamical\n"
     ]
    }
   ],
   "source": [
    "for entry in bib_database.entries:\n",
    "    journaltitle = entry.get('journaltitle', '').lower()\n",
    "    if not journaltitle:\n",
    "        journaltitle = entry.get('journal', '').lower()\n",
    "    if 'arxiv' in journaltitle:\n",
    "        print(\"Removing '{}' from ID:{}\".format(journaltitle, entry['ID']))\n",
    "        entry.pop('journaltitle', None)\n",
    "        entry.pop('journal', None)"
   ]
  },
  {
   "cell_type": "code",
   "execution_count": 11,
   "metadata": {
    "collapsed": false
   },
   "outputs": [],
   "source": [
    "# Write bib file\n",
    "writer = bibtexparser.bwriter.BibTexWriter()\n",
    "bibtex_str = writer.write(bib_database)\n",
    "bibtex_str = bibtex_str.encode('utf-8')\n",
    "with open(BIB_FILENAME, mode='w') as bibtex_file:\n",
    "    bibtex_file.write(bibtex_str)"
   ]
  }
 ],
 "metadata": {
  "kernelspec": {
   "display_name": "Python 2",
   "language": "python",
   "name": "python2"
  },
  "language_info": {
   "codemirror_mode": {
    "name": "ipython",
    "version": 2
   },
   "file_extension": ".py",
   "mimetype": "text/x-python",
   "name": "python",
   "nbconvert_exporter": "python",
   "pygments_lexer": "ipython2",
   "version": "2.7.10"
  }
 },
 "nbformat": 4,
 "nbformat_minor": 0
}
